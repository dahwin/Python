{
 "cells": [
  {
   "cell_type": "code",
   "execution_count": 3,
   "id": "1325d895-2cc6-433e-9b08-f05311e5989a",
   "metadata": {},
   "outputs": [
    {
     "name": "stdout",
     "output_type": "stream",
     "text": [
      "Path\n",
      "__all__\n",
      "__builtins__\n",
      "__cached__\n",
      "__doc__\n",
      "__file__\n",
      "__loader__\n",
      "__name__\n",
      "__package__\n",
      "__path__\n",
      "__spec__\n",
      "__version__\n",
      "__version_info__\n",
      "_additional_dll_directories\n",
      "_find_all_qt_modules\n",
      "_setupQtDirectories\n",
      "dedent\n",
      "os\n",
      "support\n",
      "sys\n"
     ]
    }
   ],
   "source": [
    "import PySide6\n",
    "x = dir(PySide6)\n",
    "print('\\n'.join(x))"
   ]
  },
  {
   "cell_type": "code",
   "execution_count": null,
   "id": "12fac25d-2fb3-49fd-9f01-cf95383c49b9",
   "metadata": {},
   "outputs": [],
   "source": []
  }
 ],
 "metadata": {
  "kernelspec": {
   "display_name": "Python 3 (ipykernel)",
   "language": "python",
   "name": "python3"
  },
  "language_info": {
   "codemirror_mode": {
    "name": "ipython",
    "version": 3
   },
   "file_extension": ".py",
   "mimetype": "text/x-python",
   "name": "python",
   "nbconvert_exporter": "python",
   "pygments_lexer": "ipython3",
   "version": "3.10.5"
  }
 },
 "nbformat": 4,
 "nbformat_minor": 5
}
