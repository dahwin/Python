{
 "cells": [
  {
   "cell_type": "code",
   "execution_count": 6,
   "id": "bb9b9885-954e-4568-80ea-893c00fb7903",
   "metadata": {},
   "outputs": [
    {
     "data": {
      "text/html": [
       "<div>\n",
       "<style scoped>\n",
       "    .dataframe tbody tr th:only-of-type {\n",
       "        vertical-align: middle;\n",
       "    }\n",
       "\n",
       "    .dataframe tbody tr th {\n",
       "        vertical-align: top;\n",
       "    }\n",
       "\n",
       "    .dataframe thead th {\n",
       "        text-align: right;\n",
       "    }\n",
       "</style>\n",
       "<table border=\"1\" class=\"dataframe\">\n",
       "  <thead>\n",
       "    <tr style=\"text-align: right;\">\n",
       "      <th></th>\n",
       "      <th>tablescraper-selected-row</th>\n",
       "      <th>tablescraper-selected-row 2</th>\n",
       "      <th>tablescraper-selected-row 3</th>\n",
       "    </tr>\n",
       "  </thead>\n",
       "  <tbody>\n",
       "    <tr>\n",
       "      <th>0</th>\n",
       "      <td>Donation History</td>\n",
       "      <td>Comment</td>\n",
       "      <td>Amount</td>\n",
       "    </tr>\n",
       "    <tr>\n",
       "      <th>1</th>\n",
       "      <td>21 February 2024</td>\n",
       "      <td>It works...Well</td>\n",
       "      <td>$5.00 USD</td>\n",
       "    </tr>\n",
       "    <tr>\n",
       "      <th>2</th>\n",
       "      <td>21 February 2024</td>\n",
       "      <td>(Second donation) Most versatile, easy to use ...</td>\n",
       "      <td>$15.00 USD</td>\n",
       "    </tr>\n",
       "    <tr>\n",
       "      <th>3</th>\n",
       "      <td>21 February 2024</td>\n",
       "      <td>David, thank you! File Explorer sucks and bewi...</td>\n",
       "      <td>$10.00 USD</td>\n",
       "    </tr>\n",
       "    <tr>\n",
       "      <th>4</th>\n",
       "      <td>20 February 2024</td>\n",
       "      <td>Thank you for \"Everything\" :)</td>\n",
       "      <td>€5.00 EUR</td>\n",
       "    </tr>\n",
       "    <tr>\n",
       "      <th>...</th>\n",
       "      <td>...</td>\n",
       "      <td>...</td>\n",
       "      <td>...</td>\n",
       "    </tr>\n",
       "    <tr>\n",
       "      <th>529</th>\n",
       "      <td>2 September 2023</td>\n",
       "      <td>NaN</td>\n",
       "      <td>$20.00 USD</td>\n",
       "    </tr>\n",
       "    <tr>\n",
       "      <th>530</th>\n",
       "      <td>2 September 2023</td>\n",
       "      <td>NaN</td>\n",
       "      <td>$10.00 USD</td>\n",
       "    </tr>\n",
       "    <tr>\n",
       "      <th>531</th>\n",
       "      <td>1 September 2023</td>\n",
       "      <td>Would love to see an android version of this.</td>\n",
       "      <td>$5.00 USD</td>\n",
       "    </tr>\n",
       "    <tr>\n",
       "      <th>532</th>\n",
       "      <td>1 September 2023</td>\n",
       "      <td>This program is amazing, I use it for work all...</td>\n",
       "      <td>$50.00 USD</td>\n",
       "    </tr>\n",
       "    <tr>\n",
       "      <th>533</th>\n",
       "      <td>1 September 2023</td>\n",
       "      <td>This tool is an essential part of my workflow....</td>\n",
       "      <td>$100.00 USD</td>\n",
       "    </tr>\n",
       "  </tbody>\n",
       "</table>\n",
       "<p>534 rows × 3 columns</p>\n",
       "</div>"
      ],
      "text/plain": [
       "    tablescraper-selected-row  \\\n",
       "0            Donation History   \n",
       "1            21 February 2024   \n",
       "2            21 February 2024   \n",
       "3            21 February 2024   \n",
       "4            20 February 2024   \n",
       "..                        ...   \n",
       "529          2 September 2023   \n",
       "530          2 September 2023   \n",
       "531          1 September 2023   \n",
       "532          1 September 2023   \n",
       "533          1 September 2023   \n",
       "\n",
       "                           tablescraper-selected-row 2  \\\n",
       "0                                              Comment   \n",
       "1                                      It works...Well   \n",
       "2    (Second donation) Most versatile, easy to use ...   \n",
       "3    David, thank you! File Explorer sucks and bewi...   \n",
       "4                        Thank you for \"Everything\" :)   \n",
       "..                                                 ...   \n",
       "529                                                NaN   \n",
       "530                                                NaN   \n",
       "531      Would love to see an android version of this.   \n",
       "532  This program is amazing, I use it for work all...   \n",
       "533  This tool is an essential part of my workflow....   \n",
       "\n",
       "    tablescraper-selected-row 3  \n",
       "0                        Amount  \n",
       "1                     $5.00 USD  \n",
       "2                    $15.00 USD  \n",
       "3                    $10.00 USD  \n",
       "4                     €5.00 EUR  \n",
       "..                          ...  \n",
       "529                  $20.00 USD  \n",
       "530                  $10.00 USD  \n",
       "531                   $5.00 USD  \n",
       "532                  $50.00 USD  \n",
       "533                 $100.00 USD  \n",
       "\n",
       "[534 rows x 3 columns]"
      ]
     },
     "execution_count": 6,
     "metadata": {},
     "output_type": "execute_result"
    }
   ],
   "source": [
    "import pandas as pd\n",
    "df = pd.read_csv(\"voidtools.csv\")\n",
    "df"
   ]
  },
  {
   "cell_type": "code",
   "execution_count": 7,
   "id": "0ba9e010-d9bd-4f22-8812-a35eff1dd73b",
   "metadata": {},
   "outputs": [
    {
     "data": {
      "text/plain": [
       "0        Amount\n",
       "1     $5.00 USD\n",
       "2    $15.00 USD\n",
       "Name: tablescraper-selected-row 3, dtype: object"
      ]
     },
     "execution_count": 7,
     "metadata": {},
     "output_type": "execute_result"
    }
   ],
   "source": [
    "df[\"tablescraper-selected-row 3\"][:3]"
   ]
  },
  {
   "cell_type": "code",
   "execution_count": 8,
   "id": "657fe103-f6e8-4230-a102-cb33fa102593",
   "metadata": {},
   "outputs": [
    {
     "data": {
      "text/plain": [
       "0      Donation History\n",
       "1      21 February 2024\n",
       "2      21 February 2024\n",
       "3      21 February 2024\n",
       "4      20 February 2024\n",
       "             ...       \n",
       "529    2 September 2023\n",
       "530    2 September 2023\n",
       "531    1 September 2023\n",
       "532    1 September 2023\n",
       "533    1 September 2023\n",
       "Name: tablescraper-selected-row, Length: 534, dtype: object"
      ]
     },
     "execution_count": 8,
     "metadata": {},
     "output_type": "execute_result"
    }
   ],
   "source": [
    "df[\"tablescraper-selected-row\"]"
   ]
  },
  {
   "cell_type": "code",
   "execution_count": 16,
   "id": "49e446c4-ee45-485d-be65-b95e077fbea4",
   "metadata": {},
   "outputs": [
    {
     "name": "stdout",
     "output_type": "stream",
     "text": [
      "Total Revenue: 1763.3400000000001\n"
     ]
    }
   ],
   "source": [
    "import pandas as pd\n",
    "\n",
    "# Read the CSV file into a DataFrame\n",
    "df = pd.read_csv(\"voidtools.csv\")\n",
    "\n",
    "# Extract numerical values from the \"Amount\" column and convert them to numeric data type\n",
    "df[\"Amount\"] = df[\"tablescraper-selected-row 3\"][:103].str.extract(r'([\\d.]+)').astype(float)\n",
    "\n",
    "# Calculate the total revenue\n",
    "total_revenue = df[\"Amount\"].sum()\n",
    "\n",
    "print(\"Total Revenue:\", total_revenue)\n"
   ]
  },
  {
   "cell_type": "code",
   "execution_count": 1,
   "id": "58983979-9510-4f7b-bf57-339a62dafc0d",
   "metadata": {},
   "outputs": [
    {
     "name": "stdout",
     "output_type": "stream",
     "text": [
      "Total Revenue (excluding amounts less than 10): 1649.65\n"
     ]
    }
   ],
   "source": [
    "import pandas as pd\n",
    "\n",
    "# Read the CSV file into a DataFrame\n",
    "df = pd.read_csv(\"voidtools.csv\")\n",
    "\n",
    "# Extract numerical values from the \"Amount\" column and convert them to numeric data type\n",
    "df[\"Amount\"] = df[\"tablescraper-selected-row 3\"][:103].str.extract(r'([\\d.]+)').astype(float)\n",
    "\n",
    "# Filter out amounts less than 10\n",
    "df_filtered = df[df[\"Amount\"] >= 10]\n",
    "\n",
    "# Calculate the total revenue\n",
    "total_revenue = df_filtered[\"Amount\"].sum()\n",
    "\n",
    "print(\"Total Revenue (excluding amounts less than 10):\", total_revenue)\n"
   ]
  },
  {
   "cell_type": "code",
   "execution_count": 4,
   "id": "99e1f919-c8ca-42ac-a4cf-32b58cc41dd4",
   "metadata": {},
   "outputs": [
    {
     "name": "stdout",
     "output_type": "stream",
     "text": [
      "15.0\n",
      "10.0\n",
      "32.65\n",
      "20.0\n",
      "10.0\n",
      "20.0\n",
      "50.0\n",
      "15.0\n",
      "12.0\n",
      "10.0\n",
      "10.0\n",
      "20.0\n",
      "10.0\n",
      "10.0\n",
      "10.0\n",
      "20.0\n",
      "30.0\n",
      "10.0\n",
      "100.0\n",
      "10.0\n",
      "50.0\n",
      "188.0\n",
      "10.0\n",
      "10.0\n",
      "40.0\n",
      "100.0\n",
      "25.0\n",
      "100.0\n",
      "20.0\n",
      "10.0\n",
      "20.0\n",
      "12.0\n",
      "10.0\n",
      "10.0\n",
      "10.0\n",
      "10.0\n",
      "10.0\n",
      "10.0\n",
      "20.0\n",
      "20.0\n",
      "20.0\n",
      "10.0\n",
      "20.0\n",
      "20.0\n",
      "10.0\n",
      "20.0\n",
      "30.0\n",
      "20.0\n",
      "20.0\n",
      "50.0\n",
      "20.0\n",
      "20.0\n",
      "30.0\n",
      "20.0\n",
      "10.0\n",
      "10.0\n",
      "20.0\n",
      "25.0\n",
      "20.0\n",
      "50.0\n",
      "20.0\n",
      "10.0\n",
      "10.0\n",
      "10.0\n",
      "15.0\n",
      "10.0\n",
      "10.0\n",
      "10.0\n"
     ]
    }
   ],
   "source": [
    "for d in df_filtered[\"Amount\"]:\n",
    "    print(d)"
   ]
  },
  {
   "cell_type": "code",
   "execution_count": 3,
   "id": "c8470564-8dda-4870-ab3c-f89892701f9a",
   "metadata": {},
   "outputs": [],
   "source": [
    "df[\"Amount\"].to_csv(\"amount.csv\")"
   ]
  },
  {
   "cell_type": "code",
   "execution_count": null,
   "id": "434eb403-6b81-4949-80ab-8f5e0e697684",
   "metadata": {},
   "outputs": [],
   "source": []
  }
 ],
 "metadata": {
  "kernelspec": {
   "display_name": "Python 3 (ipykernel)",
   "language": "python",
   "name": "python3"
  },
  "language_info": {
   "codemirror_mode": {
    "name": "ipython",
    "version": 3
   },
   "file_extension": ".py",
   "mimetype": "text/x-python",
   "name": "python",
   "nbconvert_exporter": "python",
   "pygments_lexer": "ipython3",
   "version": "3.10.5"
  }
 },
 "nbformat": 4,
 "nbformat_minor": 5
}
