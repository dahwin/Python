{
 "cells": [
  {
   "cell_type": "code",
   "execution_count": null,
   "id": "c17fd21a-271b-496b-b489-6d28ba9b1d4b",
   "metadata": {},
   "outputs": [
    {
     "name": "stdout",
     "output_type": "stream",
     "text": [
      "dahwin\n"
     ]
    }
   ],
   "source": [
    "has_printed_dahwin = False\n",
    "\n",
    "# Your while loop condition (set it to True for continuous running)\n",
    "while True:\n",
    "    # Check if 'dahwin' has not been printed yet\n",
    "    if not has_printed_dahwin:\n",
    "        print('dahwin')\n",
    "        # Set the flag to True to indicate that 'dahwin' has been printed\n",
    "        has_printed_dahwin = True\n"
   ]
  },
  {
   "cell_type": "code",
   "execution_count": null,
   "id": "21342fac-38c2-4e19-8665-25c6d5a167bf",
   "metadata": {},
   "outputs": [],
   "source": []
  }
 ],
 "metadata": {
  "kernelspec": {
   "display_name": "Python 3 (ipykernel)",
   "language": "python",
   "name": "python3"
  },
  "language_info": {
   "codemirror_mode": {
    "name": "ipython",
    "version": 3
   },
   "file_extension": ".py",
   "mimetype": "text/x-python",
   "name": "python",
   "nbconvert_exporter": "python",
   "pygments_lexer": "ipython3",
   "version": "3.10.5"
  }
 },
 "nbformat": 4,
 "nbformat_minor": 5
}
