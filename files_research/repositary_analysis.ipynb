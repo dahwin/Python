{
 "cells": [
  {
   "cell_type": "markdown",
   "metadata": {
    "id": "DQzysh07C6zK"
   },
   "source": [
    "# DAHYUN+DARWIN = DAHWIN"
   ]
  },
  {
   "cell_type": "code",
   "execution_count": null,
   "metadata": {
    "colab": {
     "base_uri": "https://localhost:8080/"
    },
    "id": "JKBZ6SumiFaa",
    "outputId": "a17d5e84-3433-4f1e-8615-a68280dcf493"
   },
   "outputs": [
    {
     "name": "stdout",
     "output_type": "stream",
     "text": [
      "Directory zipped successfully.\n"
     ]
    }
   ],
   "source": [
    "'''dahyun+darwin = dahwin'''\n",
    "import os\n",
    "import zipfile\n",
    "# Specify the path of the directory to be zipped\n",
    "directory_to_zip = r\"/content/data_scraping\"\n",
    "\n",
    "# Extract the folder name from the directory path\n",
    "folder_name = os.path.basename(directory_to_zip)\n",
    "\n",
    "# Specify the path for the resulting zip file\n",
    "zip_file_path = f\"{folder_name}.zip\"\n",
    "\n",
    "# Open a new zip file\n",
    "with zipfile.ZipFile(zip_file_path, \"w\", zipfile.ZIP_DEFLATED) as zipf:\n",
    "    # Iterate over all the files and folders in the directory\n",
    "    for root, _, files in os.walk(directory_to_zip):\n",
    "        # Get the relative path of each file\n",
    "        for file in files:\n",
    "            file_path = os.path.join(root, file)\n",
    "            relative_path = os.path.relpath(file_path, directory_to_zip)\n",
    "            # Add each file with its relative path to the zip file\n",
    "            zipf.write(file_path, arcname=os.path.join(folder_name, relative_path))\n",
    "\n",
    "print(\"Directory zipped successfully.\")"
   ]
  },
  {
   "cell_type": "code",
   "execution_count": null,
   "metadata": {
    "colab": {
     "base_uri": "https://localhost:8080/"
    },
    "id": "oH-rCoD556r0",
    "outputId": "f4486da9-2bcd-450e-ea95-a62d61282442"
   },
   "outputs": [
    {
     "name": "stdout",
     "output_type": "stream",
     "text": [
      "Cloning into 'project_hoobank'...\n",
      "remote: Enumerating objects: 86, done.\u001b[K\n",
      "remote: Counting objects: 100% (44/44), done.\u001b[K\n",
      "remote: Compressing objects: 100% (38/38), done.\u001b[K\n",
      "remote: Total 86 (delta 16), reused 7 (delta 6), pack-reused 42\u001b[K\n",
      "Receiving objects: 100% (86/86), 2.28 MiB | 20.81 MiB/s, done.\n",
      "Resolving deltas: 100% (16/16), done.\n"
     ]
    }
   ],
   "source": [
    "!git clone https://github.com/adrianhajdin/project_hoobank.git"
   ]
  },
  {
   "cell_type": "code",
   "execution_count": null,
   "metadata": {
    "colab": {
     "base_uri": "https://localhost:8080/"
    },
    "id": "jgMmEdbhFKrZ",
    "outputId": "0f192a50-6028-4e95-cd1d-3fcedc86f8fe"
   },
   "outputs": [
    {
     "name": "stdout",
     "output_type": "stream",
     "text": [
      "Cloning into 'langchain'...\n",
      "remote: Enumerating objects: 2071, done.\u001b[K\n",
      "remote: Counting objects: 100% (2071/2071), done.\u001b[K\n",
      "remote: Compressing objects: 100% (1817/1817), done.\u001b[K\n",
      "remote: Total 2071 (delta 159), reused 2067 (delta 155), pack-reused 0\u001b[K\n",
      "Receiving objects: 100% (2071/2071), 11.58 MiB | 19.31 MiB/s, done.\n",
      "Resolving deltas: 100% (159/159), done.\n"
     ]
    }
   ],
   "source": [
    "!git clone https://github.com/dahwin/langchain.git"
   ]
  },
  {
   "cell_type": "code",
   "execution_count": null,
   "metadata": {
    "colab": {
     "base_uri": "https://localhost:8080/"
    },
    "id": "iEmRJm6xBxpx",
    "outputId": "9d1677ce-6c9f-44ed-cf23-62ac029e6e10"
   },
   "outputs": [
    {
     "name": "stdout",
     "output_type": "stream",
     "text": [
      "Reference found in: /content/vllm/csrc/ops.h\n",
      "Reference found in: /content/vllm/tests/distributed/test_comm_ops.py\n"
     ]
    }
   ],
   "source": [
    "import os\n",
    "\n",
    "def search_reference_files(folder_path, reference_word):\n",
    "    for root, dirs, files in os.walk(folder_path):\n",
    "        for file in files:\n",
    "            if reference_word in file:\n",
    "                file_path = os.path.join(root, file)\n",
    "                print(\"Reference found in:\", file_path)\n",
    "\n",
    "# Specify the folder path and reference word\n",
    "folder_path = '/content/litellm'\n",
    "reference_word = 'ops'\n",
    "\n",
    "# Call the function to search for reference files\n",
    "search_reference_files(folder_path, reference_word)\n"
   ]
  },
  {
   "cell_type": "code",
   "execution_count": null,
   "metadata": {
    "colab": {
     "base_uri": "https://localhost:8080/"
    },
    "id": "pH0oTrSnDhwn",
    "outputId": "c573c2fa-c8de-477d-c388-9f3bf1d6d556"
   },
   "outputs": [
    {
     "name": "stdout",
     "output_type": "stream",
     "text": [
      "\n",
      ".json\n",
      ".xml\n",
      ".yaml\n",
      ".gz\n",
      ".css\n",
      ".png\n",
      ".cuh\n",
      ".cu\n",
      ".yml\n",
      ".md\n",
      ".sh\n",
      ".h\n",
      ".js\n",
      ".jpeg\n",
      ".pack\n",
      ".sample\n",
      ".cpp\n",
      ".idx\n",
      ".jpg\n",
      ".launch\n",
      ".txt\n",
      ".ipynb\n",
      ".py\n"
     ]
    }
   ],
   "source": [
    "import os\n",
    "\n",
    "def get_file_extensions(folder_path):\n",
    "    extensions = set()\n",
    "    for root, dirs, files in os.walk(folder_path):\n",
    "        for file in files:\n",
    "            file_ext = os.path.splitext(file)[1]\n",
    "            extensions.add(file_ext)\n",
    "    return extensions\n",
    "\n",
    "# Specify the folder path\n",
    "folder_path = '/content/dahwin_media'\n",
    "\n",
    "# Get the file extensions\n",
    "extensions = get_file_extensions(folder_path)\n",
    "\n",
    "# Print the file extensions\n",
    "for ext in extensions:\n",
    "    print(ext)\n"
   ]
  },
  {
   "cell_type": "markdown",
   "metadata": {
    "id": "0aC8ZMu_s-o3"
   },
   "source": [
    "# read file than check"
   ]
  },
  {
   "cell_type": "code",
   "execution_count": null,
   "metadata": {
    "id": "FaDgEBiBn15a"
   },
   "outputs": [],
   "source": [
    "import glob\n",
    "\n",
    "# reference_word = 'StableDiffusionProcessingImg2Img'\n",
    "reference_word = 'baseURL'\n",
    "\n",
    "# Specify the folder path\n",
    "folder_path = '/content/PERN-STACK-DEPLOYMENT'\n",
    "\n",
    "# Find all Python files in the folder and its subdirectories\n",
    "python_files = glob.glob(folder_path + '/**/*.py', recursive=True)\n",
    "\n",
    "# Iterate over the Python files\n",
    "for file_path in python_files:\n",
    "    with open(file_path, 'r', encoding='utf-8-sig') as file:\n",
    "        for line in file:\n",
    "            if reference_word in line:\n",
    "                print(file_path)\n",
    "                # Break out of the loop if reference word is found\n",
    "                break\n",
    "\n"
   ]
  },
  {
   "cell_type": "code",
   "execution_count": 3,
   "metadata": {
    "colab": {
     "base_uri": "https://localhost:8080/"
    },
    "id": "4UlSd9a06fZ8",
    "outputId": "9431388b-e35b-4004-a256-ef144935b56c"
   },
   "outputs": [
    {
     "ename": "PermissionError",
     "evalue": "[Errno 13] Permission denied: 'C:\\\\Users\\\\ALL USER\\\\Desktop\\\\e\\\\my_dahwin_web\\\\queendahyun\\\\node_modules\\\\fraction.js'",
     "output_type": "error",
     "traceback": [
      "\u001b[1;31m---------------------------------------------------------------------------\u001b[0m",
      "\u001b[1;31mPermissionError\u001b[0m                           Traceback (most recent call last)",
      "Cell \u001b[1;32mIn[3], line 14\u001b[0m\n\u001b[0;32m     12\u001b[0m \u001b[38;5;66;03m# Iterate over the Python files\u001b[39;00m\n\u001b[0;32m     13\u001b[0m \u001b[38;5;28;01mfor\u001b[39;00m file_path \u001b[38;5;129;01min\u001b[39;00m python_files:\n\u001b[1;32m---> 14\u001b[0m     \u001b[38;5;28;01mwith\u001b[39;00m \u001b[38;5;28;43mopen\u001b[39;49m\u001b[43m(\u001b[49m\u001b[43mfile_path\u001b[49m\u001b[43m,\u001b[49m\u001b[43m \u001b[49m\u001b[38;5;124;43m'\u001b[39;49m\u001b[38;5;124;43mrb\u001b[39;49m\u001b[38;5;124;43m'\u001b[39;49m\u001b[43m)\u001b[49m \u001b[38;5;28;01mas\u001b[39;00m file:\n\u001b[0;32m     15\u001b[0m         raw_data \u001b[38;5;241m=\u001b[39m file\u001b[38;5;241m.\u001b[39mread()\n\u001b[0;32m     16\u001b[0m         encoding_info \u001b[38;5;241m=\u001b[39m chardet\u001b[38;5;241m.\u001b[39mdetect(raw_data)\n",
      "File \u001b[1;32m~\\AppData\\Roaming\\Python\\Python310\\site-packages\\IPython\\core\\interactiveshell.py:284\u001b[0m, in \u001b[0;36m_modified_open\u001b[1;34m(file, *args, **kwargs)\u001b[0m\n\u001b[0;32m    277\u001b[0m \u001b[38;5;28;01mif\u001b[39;00m file \u001b[38;5;129;01min\u001b[39;00m {\u001b[38;5;241m0\u001b[39m, \u001b[38;5;241m1\u001b[39m, \u001b[38;5;241m2\u001b[39m}:\n\u001b[0;32m    278\u001b[0m     \u001b[38;5;28;01mraise\u001b[39;00m \u001b[38;5;167;01mValueError\u001b[39;00m(\n\u001b[0;32m    279\u001b[0m         \u001b[38;5;124mf\u001b[39m\u001b[38;5;124m\"\u001b[39m\u001b[38;5;124mIPython won\u001b[39m\u001b[38;5;124m'\u001b[39m\u001b[38;5;124mt let you open fd=\u001b[39m\u001b[38;5;132;01m{\u001b[39;00mfile\u001b[38;5;132;01m}\u001b[39;00m\u001b[38;5;124m by default \u001b[39m\u001b[38;5;124m\"\u001b[39m\n\u001b[0;32m    280\u001b[0m         \u001b[38;5;124m\"\u001b[39m\u001b[38;5;124mas it is likely to crash IPython. If you know what you are doing, \u001b[39m\u001b[38;5;124m\"\u001b[39m\n\u001b[0;32m    281\u001b[0m         \u001b[38;5;124m\"\u001b[39m\u001b[38;5;124myou can use builtins\u001b[39m\u001b[38;5;124m'\u001b[39m\u001b[38;5;124m open.\u001b[39m\u001b[38;5;124m\"\u001b[39m\n\u001b[0;32m    282\u001b[0m     )\n\u001b[1;32m--> 284\u001b[0m \u001b[38;5;28;01mreturn\u001b[39;00m io_open(file, \u001b[38;5;241m*\u001b[39margs, \u001b[38;5;241m*\u001b[39m\u001b[38;5;241m*\u001b[39mkwargs)\n",
      "\u001b[1;31mPermissionError\u001b[0m: [Errno 13] Permission denied: 'C:\\\\Users\\\\ALL USER\\\\Desktop\\\\e\\\\my_dahwin_web\\\\queendahyun\\\\node_modules\\\\fraction.js'"
     ]
    }
   ],
   "source": [
    "import glob\n",
    "import chardet\n",
    "\n",
    "reference_word = 'Let’s try our service now'\n",
    "\n",
    "# Specify the folder path\n",
    "folder_path = r'C:\\Users\\ALL USER\\Desktop\\e\\my_dahwin_web\\queendahyun'\n",
    "\n",
    "# Find all Python files in the folder and its subdirectories\n",
    "python_files = glob.glob(folder_path + '/**/*.js', recursive=True)\n",
    "\n",
    "# Iterate over the Python files\n",
    "for file_path in python_files:\n",
    "    with open(file_path, 'rb') as file:\n",
    "        raw_data = file.read()\n",
    "        encoding_info = chardet.detect(raw_data)\n",
    "        file_encoding = encoding_info['encoding'] or 'utf-8'\n",
    "        try:\n",
    "            file_content = raw_data.decode(file_encoding)\n",
    "            for line in file_content.splitlines():\n",
    "                if reference_word in line:\n",
    "                    print(file_path)\n",
    "                    # Break out of the loop if reference word is found\n",
    "                    break\n",
    "        except UnicodeDecodeError:\n",
    "            print(f\"Error decoding file: {file_path}\")\n"
   ]
  },
  {
   "cell_type": "code",
   "execution_count": null,
   "metadata": {
    "colab": {
     "base_uri": "https://localhost:8080/"
    },
    "id": "uyCOgJ1RnYHC",
    "outputId": "12031d6d-40a2-41ae-8126-87348c599b5e"
   },
   "outputs": [
    {
     "name": "stdout",
     "output_type": "stream",
     "text": [
      "Cloning into 'ControlNet-v1-1-nightly'...\n",
      "remote: Enumerating objects: 2416, done.\u001b[K\n",
      "remote: Counting objects: 100% (235/235), done.\u001b[K\n",
      "remote: Compressing objects: 100% (133/133), done.\u001b[K\n",
      "remote: Total 2416 (delta 128), reused 165 (delta 100), pack-reused 2181\u001b[K\n",
      "Receiving objects: 100% (2416/2416), 65.18 MiB | 13.20 MiB/s, done.\n",
      "Resolving deltas: 100% (998/998), done.\n"
     ]
    }
   ],
   "source": [
    "!git clone https://github.com/lllyasviel/ControlNet-v1-1-nightly.git"
   ]
  },
  {
   "cell_type": "markdown",
   "metadata": {
    "id": "ptzQYCwitEPL"
   },
   "source": [
    "# Check import"
   ]
  },
  {
   "cell_type": "code",
   "execution_count": null,
   "metadata": {
    "id": "UOuP-7g0qY6u"
   },
   "outputs": [],
   "source": [
    "import subprocess\n",
    "\n",
    "file_path = 'stable-diffusion-webui/modules/txt2img.py'\n",
    "\n",
    "# Run the grep command to search for import statements\n",
    "grep_command = f'grep -r \"import.*global_state\" /content/sd-webui-controlnet'\n",
    "result = subprocess.run(grep_command, shell=True, capture_output=True, text=True)\n",
    "\n",
    "# Split the output by lines\n",
    "lines = result.stdout.split('\\n')\n",
    "\n",
    "# Iterate over the lines and extract the file paths\n",
    "imported_files = []\n",
    "for line in lines:\n",
    "    if line:\n",
    "        file_path = line.split(':')[0]\n",
    "        imported_files.append(file_path)\n",
    "\n",
    "# Print the file paths\n",
    "for file_path in imported_files:\n",
    "    print(file_path)\n"
   ]
  },
  {
   "cell_type": "code",
   "execution_count": null,
   "metadata": {
    "colab": {
     "base_uri": "https://localhost:8080/"
    },
    "id": "WfhRxDavGm8n",
    "outputId": "82e87048-9faf-432b-86ef-98c1867d4f18"
   },
   "outputs": [
    {
     "name": "stdout",
     "output_type": "stream",
     "text": [
      "Hello, my name is Jane. I love Python!\n"
     ]
    }
   ],
   "source": [
    "import re\n",
    "\n",
    "# Example string\n",
    "text = \"Hello, my name is John. I love Python!\"\n",
    "\n",
    "# Replace \"John\" with \"Jane\" using re.sub\n",
    "new_text = re.sub(r'John', 'Jane', text)\n",
    "\n",
    "print(new_text)\n"
   ]
  },
  {
   "cell_type": "code",
   "execution_count": null,
   "metadata": {
    "colab": {
     "background_save": true,
     "base_uri": "https://localhost:8080/"
    },
    "id": "1Wut6yxw_stE",
    "outputId": "28139043-5901-4f23-fc82-649d94a8ce18"
   },
   "outputs": [
    {
     "name": "stdout",
     "output_type": "stream",
     "text": [
      "Looking in indexes: https://pypi.org/simple, https://us-python.pkg.dev/colab-wheels/public/simple/\n",
      "Collecting pyngrok\n",
      "  Downloading pyngrok-6.0.0.tar.gz (681 kB)\n",
      "\u001b[2K     \u001b[90m━━━━━━━━━━━━━━━━━━━━━━━━━━━━━━━━━━━━━━\u001b[0m \u001b[32m681.2/681.2 kB\u001b[0m \u001b[31m11.1 MB/s\u001b[0m eta \u001b[36m0:00:00\u001b[0m\n",
      "\u001b[?25h  Preparing metadata (setup.py) ... \u001b[?25l\u001b[?25hdone\n",
      "Requirement already satisfied: PyYAML in /usr/local/lib/python3.10/dist-packages (from pyngrok) (6.0)\n",
      "Building wheels for collected packages: pyngrok\n",
      "  Building wheel for pyngrok (setup.py) ... \u001b[?25l\u001b[?25hdone\n",
      "  Created wheel for pyngrok: filename=pyngrok-6.0.0-py3-none-any.whl size=19867 sha256=8d90316ff948eaa69428d147bbaf87729df50a7d2e072acf680d2fb1abd6cd92\n",
      "  Stored in directory: /root/.cache/pip/wheels/5c/42/78/0c3d438d7f5730451a25f7ac6cbf4391759d22a67576ed7c2c\n",
      "Successfully built pyngrok\n",
      "Installing collected packages: pyngrok\n",
      "Successfully installed pyngrok-6.0.0\n"
     ]
    }
   ],
   "source": [
    "!pip install pyngrok\n"
   ]
  },
  {
   "cell_type": "code",
   "execution_count": null,
   "metadata": {
    "id": "diKXXEM5_xp0"
   },
   "outputs": [],
   "source": [
    "!pip install pyngrok\n"
   ]
  }
 ],
 "metadata": {
  "colab": {
   "provenance": []
  },
  "kernelspec": {
   "display_name": "Python 3 (ipykernel)",
   "language": "python",
   "name": "python3"
  },
  "language_info": {
   "codemirror_mode": {
    "name": "ipython",
    "version": 3
   },
   "file_extension": ".py",
   "mimetype": "text/x-python",
   "name": "python",
   "nbconvert_exporter": "python",
   "pygments_lexer": "ipython3",
   "version": "3.10.5"
  }
 },
 "nbformat": 4,
 "nbformat_minor": 4
}
