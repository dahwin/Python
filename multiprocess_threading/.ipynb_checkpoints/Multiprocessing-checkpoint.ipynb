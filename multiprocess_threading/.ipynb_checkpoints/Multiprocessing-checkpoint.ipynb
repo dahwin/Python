{
 "cells": [
  {
   "cell_type": "code",
   "execution_count": 1,
   "metadata": {
    "id": "REpKoJzLOUut"
   },
   "outputs": [],
   "source": [
    "import torch"
   ]
  },
  {
   "cell_type": "code",
   "execution_count": 2,
   "metadata": {
    "colab": {
     "base_uri": "https://localhost:8080/"
    },
    "id": "RGYdPpYxO7Az",
    "outputId": "4f760d6f-e0b9-47a2-8bbd-e516a5dd6ddf"
   },
   "outputs": [
    {
     "name": "stdout",
     "output_type": "stream",
     "text": [
      "Number of CPU cores: 8\n"
     ]
    }
   ],
   "source": [
    "import os\n",
    "import multiprocessing\n",
    "\n",
    "# Get the number of CPU cores\n",
    "num_cores = multiprocessing.cpu_count()\n",
    "\n",
    "print(f\"Number of CPU cores: {num_cores}\")\n"
   ]
  },
  {
   "cell_type": "code",
   "execution_count": 11,
   "metadata": {
    "id": "KIpUkexxOt2U"
   },
   "outputs": [
    {
     "name": "stdout",
     "output_type": "stream",
     "text": [
      "0.14041352272033691\n"
     ]
    }
   ],
   "source": [
    "def five():\n",
    "  # Create a complex matrix x (500x500x500) with random real and imaginary components\n",
    "  x = torch.rand(500, 500, 500)\n",
    "  y = torch.rand(500, 500, 500)\n",
    "  # Matrix multiply x by itself\n",
    "  xy = torch.matmul(x, x)\n",
    "  return xy\n",
    "import random\n",
    "\n",
    "def seven():\n",
    "    num_samples = 10000000\n",
    "    inside_circle = 0\n",
    "\n",
    "    for _ in range(num_samples):\n",
    "        x = random.uniform(0, 1)\n",
    "        y = random.uniform(0, 1)\n",
    "\n",
    "        if x**2 + y**2 <= 1:\n",
    "            inside_circle += 1\n",
    "\n",
    "    estimated_pi = (inside_circle / num_samples) * 4\n",
    "    print(estimated_pi)\n",
    "    return estimated_pi\n",
    "import time\n",
    "if __name__ == '__main__':\n",
    "\n",
    "    s= time.time()\n",
    "    # Create two processes to run the functions concurrently\n",
    "    process_five = multiprocessing.Process(target=seven)\n",
    "    process_seven = multiprocessing.Process(target=five)\n",
    "\n",
    "    # Start both processes\n",
    "    process_five.start()\n",
    "    process_seven.start()\n",
    "\n",
    "    # Wait for both processes to finish\n",
    "    process_five.join()\n",
    "    process_seven.join()\n",
    "    e  = time.time()\n",
    "    l = e-s\n",
    "    print(l)"
   ]
  },
  {
   "cell_type": "code",
   "execution_count": 8,
   "metadata": {
    "colab": {
     "base_uri": "https://localhost:8080/"
    },
    "id": "hLrppv5pPLm6",
    "outputId": "851a2722-9598-42d7-f2c7-e50b9853a4d0"
   },
   "outputs": [
    {
     "name": "stdout",
     "output_type": "stream",
     "text": [
      "0.1289348602294922\n"
     ]
    }
   ],
   "source": []
  },
  {
   "cell_type": "code",
   "execution_count": 5,
   "metadata": {
    "colab": {
     "base_uri": "https://localhost:8080/"
    },
    "id": "AEf9wcdcPXET",
    "outputId": "89e30328-c984-4e11-a620-814df8d56b72"
   },
   "outputs": [
    {
     "data": {
      "text/plain": [
       "3.1410124"
      ]
     },
     "execution_count": 5,
     "metadata": {},
     "output_type": "execute_result"
    }
   ],
   "source": [
    "seven()"
   ]
  },
  {
   "cell_type": "code",
   "execution_count": 9,
   "metadata": {
    "colab": {
     "base_uri": "https://localhost:8080/"
    },
    "id": "aLv5o9RJQH75",
    "outputId": "12d9b0d3-b417-4f5b-d76e-854308ee59bc"
   },
   "outputs": [
    {
     "data": {
      "text/plain": [
       "tensor([[[123.9235, 121.3273, 117.1768,  ..., 119.2705, 118.8712, 120.7576],\n",
       "         [121.8536, 123.3054, 119.0530,  ..., 121.3853, 119.6660, 121.4409],\n",
       "         [136.5526, 136.0559, 131.3761,  ..., 138.9260, 131.2904, 135.9968],\n",
       "         ...,\n",
       "         [132.2653, 129.0874, 125.5392,  ..., 131.1690, 125.2271, 132.6353],\n",
       "         [122.2126, 127.2145, 121.3956,  ..., 125.0958, 121.4699, 125.3045],\n",
       "         [121.9955, 122.8160, 121.9716,  ..., 121.7967, 120.5587, 124.5634]],\n",
       "\n",
       "        [[118.9167, 123.3343, 121.9450,  ..., 126.7298, 117.3642, 127.4024],\n",
       "         [126.8613, 125.8942, 128.9774,  ..., 132.8798, 127.2901, 132.9431],\n",
       "         [130.1044, 126.3662, 128.6640,  ..., 131.6462, 127.9138, 132.9513],\n",
       "         ...,\n",
       "         [124.7094, 122.1012, 127.1781,  ..., 127.2429, 120.8680, 128.3167],\n",
       "         [132.5898, 126.0045, 128.7633,  ..., 132.1570, 128.2640, 129.8445],\n",
       "         [122.3186, 121.6454, 122.5761,  ..., 124.2322, 116.7074, 128.2356]],\n",
       "\n",
       "        [[129.0950, 141.9104, 129.5903,  ..., 136.3509, 124.3401, 131.1054],\n",
       "         [124.3147, 130.7997, 121.7379,  ..., 127.8117, 115.3250, 124.2702],\n",
       "         [129.0255, 135.7797, 129.5868,  ..., 135.8910, 125.8187, 130.2563],\n",
       "         ...,\n",
       "         [125.3253, 130.8067, 126.9823,  ..., 133.3390, 117.1057, 126.4698],\n",
       "         [120.9589, 131.8284, 126.8306,  ..., 130.3169, 126.1505, 129.3846],\n",
       "         [125.2941, 133.7202, 121.9596,  ..., 129.6446, 121.8122, 127.8086]],\n",
       "\n",
       "        ...,\n",
       "\n",
       "        [[124.9573, 126.8007, 123.2451,  ..., 121.4331, 122.3709, 120.8505],\n",
       "         [124.4226, 126.2930, 120.8402,  ..., 122.3636, 122.5946, 120.0807],\n",
       "         [120.1530, 124.1468, 119.4057,  ..., 115.4829, 121.2971, 115.6163],\n",
       "         ...,\n",
       "         [133.0569, 137.0695, 128.0218,  ..., 130.3217, 129.9577, 127.3162],\n",
       "         [126.1482, 131.6349, 124.4979,  ..., 125.7288, 129.7073, 121.4701],\n",
       "         [123.8458, 129.4951, 121.2931,  ..., 124.5879, 122.9568, 120.0669]],\n",
       "\n",
       "        [[125.2167, 118.1735, 120.3559,  ..., 122.1062, 118.2160, 128.0393],\n",
       "         [126.0190, 119.6642, 126.4914,  ..., 134.6143, 124.2093, 134.5679],\n",
       "         [124.1095, 119.5233, 127.4409,  ..., 131.1456, 123.1491, 131.1552],\n",
       "         ...,\n",
       "         [129.5329, 123.2951, 125.5754,  ..., 130.8149, 124.2091, 133.3050],\n",
       "         [126.4122, 120.5380, 123.1660,  ..., 126.3375, 120.6788, 131.3974],\n",
       "         [128.1418, 124.2391, 127.3274,  ..., 134.9947, 123.7552, 135.2856]],\n",
       "\n",
       "        [[116.6150, 121.2237, 117.4309,  ..., 119.7136, 120.3570, 124.4366],\n",
       "         [116.9983, 122.4778, 121.4247,  ..., 119.2665, 120.4519, 127.8419],\n",
       "         [122.7416, 129.9705, 120.3294,  ..., 126.2513, 121.6979, 127.0618],\n",
       "         ...,\n",
       "         [127.1998, 126.4875, 128.3781,  ..., 124.0233, 123.2741, 133.5688],\n",
       "         [123.4798, 122.8645, 124.1692,  ..., 122.5897, 121.1887, 126.3911],\n",
       "         [121.4039, 127.6854, 123.9476,  ..., 124.8277, 122.1659, 126.5875]]])"
      ]
     },
     "execution_count": 9,
     "metadata": {},
     "output_type": "execute_result"
    }
   ],
   "source": [
    "five()"
   ]
  },
  {
   "cell_type": "code",
   "execution_count": null,
   "metadata": {
    "id": "3F2SFyoLQQjp"
   },
   "outputs": [],
   "source": []
  }
 ],
 "metadata": {
  "colab": {
   "provenance": []
  },
  "kernelspec": {
   "display_name": "Python 3 (ipykernel)",
   "language": "python",
   "name": "python3"
  },
  "language_info": {
   "codemirror_mode": {
    "name": "ipython",
    "version": 3
   },
   "file_extension": ".py",
   "mimetype": "text/x-python",
   "name": "python",
   "nbconvert_exporter": "python",
   "pygments_lexer": "ipython3",
   "version": "3.10.5"
  }
 },
 "nbformat": 4,
 "nbformat_minor": 4
}
