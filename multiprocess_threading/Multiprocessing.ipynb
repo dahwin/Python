{
 "cells": [
  {
   "cell_type": "code",
   "execution_count": 1,
   "metadata": {
    "id": "REpKoJzLOUut"
   },
   "outputs": [],
   "source": [
    "import torch"
   ]
  },
  {
   "cell_type": "code",
   "execution_count": 2,
   "metadata": {
    "colab": {
     "base_uri": "https://localhost:8080/"
    },
    "id": "RGYdPpYxO7Az",
    "outputId": "4f760d6f-e0b9-47a2-8bbd-e516a5dd6ddf"
   },
   "outputs": [
    {
     "name": "stdout",
     "output_type": "stream",
     "text": [
      "Number of CPU cores: 8\n"
     ]
    }
   ],
   "source": [
    "import os\n",
    "import multiprocessing\n",
    "\n",
    "# Get the number of CPU cores\n",
    "num_cores = multiprocessing.cpu_count()\n",
    "\n",
    "print(f\"Number of CPU cores: {num_cores}\")\n"
   ]
  },
  {
   "cell_type": "code",
   "execution_count": 13,
   "metadata": {
    "id": "KIpUkexxOt2U"
   },
   "outputs": [
    {
     "name": "stdout",
     "output_type": "stream",
     "text": [
      "0.1436903476715088\n"
     ]
    }
   ],
   "source": [
    "def five():\n",
    "  # Create a complex matrix x (500x500x500) with random real and imaginary components\n",
    "  x = torch.rand(500, 500, 500)\n",
    "  y = torch.rand(500, 500, 500)\n",
    "  # Matrix multiply x by itself\n",
    "  xy = torch.matmul(x, x)\n",
    "  return xy\n",
    "import random\n",
    "print()\n",
    "def seven():\n",
    "    num_samples = 10000000\n",
    "    inside_circle = 0\n",
    "\n",
    "    for _ in range(num_samples):\n",
    "        x = random.uniform(0, 1)\n",
    "        y = random.uniform(0, 1)\n",
    "\n",
    "        if x**2 + y**2 <= 1:\n",
    "            inside_circle += 1\n",
    "\n",
    "    estimated_pi = (inside_circle / num_samples) * 4\n",
    "    print(estimated_pi)\n",
    "    return estimated_pi\n",
    "import time\n",
    "if __name__ == '__main__':\n",
    "\n",
    "    s= time.time()\n",
    "    # Create two processes to run the functions concurrently\n",
    "    process_five = multiprocessing.Process(target=seven)\n",
    "    process_seven = multiprocessing.Process(target=five)\n",
    "\n",
    "    # Start both processes\n",
    "    process_five.start()\n",
    "    process_seven.start()\n",
    "\n",
    "    # Wait for both processes to finish\n",
    "    process_five.join()\n",
    "    process_seven.join()\n",
    "    e  = time.time()\n",
    "    l = e-s\n",
    "    print(l)"
   ]
  },
  {
   "cell_type": "code",
   "execution_count": 5,
   "metadata": {
    "colab": {
     "base_uri": "https://localhost:8080/"
    },
    "id": "AEf9wcdcPXET",
    "outputId": "89e30328-c984-4e11-a620-814df8d56b72"
   },
   "outputs": [
    {
     "data": {
      "text/plain": [
       "3.1410124"
      ]
     },
     "execution_count": 5,
     "metadata": {},
     "output_type": "execute_result"
    }
   ],
   "source": [
    "seven()"
   ]
  },
  {
   "cell_type": "code",
   "execution_count": 14,
   "metadata": {
    "colab": {
     "base_uri": "https://localhost:8080/"
    },
    "id": "aLv5o9RJQH75",
    "outputId": "12d9b0d3-b417-4f5b-d76e-854308ee59bc"
   },
   "outputs": [
    {
     "data": {
      "text/plain": [
       "tensor([[[122.9523, 126.0469, 123.4761,  ..., 125.9936, 127.6881, 124.4943],\n",
       "         [117.8915, 124.7002, 122.0406,  ..., 120.5075, 127.3516, 126.3474],\n",
       "         [116.2406, 127.1779, 125.3138,  ..., 118.8771, 127.0276, 122.0200],\n",
       "         ...,\n",
       "         [115.2518, 122.9802, 121.6079,  ..., 119.8035, 122.1096, 122.2502],\n",
       "         [110.6017, 118.5817, 122.2912,  ..., 117.5928, 122.5873, 122.6282],\n",
       "         [114.5504, 116.8823, 121.1792,  ..., 117.1953, 123.2533, 119.3868]],\n",
       "\n",
       "        [[125.3294, 123.1774, 126.0424,  ..., 119.4419, 116.4887, 123.6395],\n",
       "         [124.0486, 124.6781, 123.4435,  ..., 119.8970, 117.6787, 123.6728],\n",
       "         [122.9755, 119.3808, 121.2020,  ..., 112.8865, 117.7913, 124.6870],\n",
       "         ...,\n",
       "         [121.5438, 119.8172, 121.8341,  ..., 116.4701, 112.4342, 119.3881],\n",
       "         [121.4408, 118.1530, 123.3840,  ..., 115.2846, 116.8436, 122.7171],\n",
       "         [120.6385, 117.7945, 118.8057,  ..., 112.4976, 112.8824, 119.7303]],\n",
       "\n",
       "        [[127.1186, 115.0723, 125.8613,  ..., 121.8277, 122.6430, 129.3221],\n",
       "         [125.9478, 118.7990, 121.3474,  ..., 118.9807, 123.2944, 128.2837],\n",
       "         [127.1291, 115.7907, 126.1606,  ..., 121.6433, 124.5021, 130.9307],\n",
       "         ...,\n",
       "         [128.1029, 118.3261, 133.1786,  ..., 124.2847, 129.8736, 132.9530],\n",
       "         [127.1060, 117.4658, 127.6789,  ..., 126.1867, 124.7114, 128.2629],\n",
       "         [124.0875, 116.0041, 122.6147,  ..., 117.2001, 121.4212, 125.8881]],\n",
       "\n",
       "        ...,\n",
       "\n",
       "        [[120.5683, 118.8909, 116.0611,  ..., 123.3127, 119.5521, 121.9406],\n",
       "         [122.6650, 130.0187, 127.6490,  ..., 134.3902, 123.3947, 129.0006],\n",
       "         [127.3833, 128.2016, 127.0912,  ..., 132.3422, 129.6011, 128.8361],\n",
       "         ...,\n",
       "         [124.0640, 130.1253, 124.9814,  ..., 132.3983, 126.0296, 126.5983],\n",
       "         [115.0765, 118.2189, 118.7601,  ..., 128.2278, 118.0421, 120.4121],\n",
       "         [116.7708, 124.8119, 119.5030,  ..., 122.9507, 118.8457, 120.4043]],\n",
       "\n",
       "        [[123.7594, 122.3832, 119.3105,  ..., 119.8713, 121.0077, 118.2164],\n",
       "         [135.4580, 128.1089, 124.6335,  ..., 131.4519, 132.7580, 123.0544],\n",
       "         [139.3466, 133.7809, 131.4494,  ..., 134.3631, 132.9383, 129.3038],\n",
       "         ...,\n",
       "         [130.8733, 125.5681, 128.7598,  ..., 127.4370, 126.4696, 123.6730],\n",
       "         [128.2587, 123.3425, 126.3295,  ..., 123.7895, 127.5256, 122.0950],\n",
       "         [126.9379, 124.4249, 128.4731,  ..., 121.3414, 124.8759, 119.9700]],\n",
       "\n",
       "        [[126.4902, 128.1900, 122.9956,  ..., 115.2926, 126.4859, 121.9550],\n",
       "         [126.6665, 131.3259, 121.3637,  ..., 122.1989, 129.4043, 127.6361],\n",
       "         [131.0073, 135.1691, 128.2424,  ..., 123.7440, 128.8618, 130.1435],\n",
       "         ...,\n",
       "         [128.1362, 134.1743, 123.8914,  ..., 123.2208, 126.6515, 125.4269],\n",
       "         [129.8261, 131.7436, 123.8179,  ..., 121.8461, 126.3423, 120.1866],\n",
       "         [128.9907, 133.0310, 123.4326,  ..., 122.6842, 126.8754, 128.0996]]])"
      ]
     },
     "execution_count": 14,
     "metadata": {},
     "output_type": "execute_result"
    }
   ],
   "source": [
    "five()"
   ]
  },
  {
   "cell_type": "code",
   "execution_count": 16,
   "metadata": {},
   "outputs": [
    {
     "name": "stdout",
     "output_type": "stream",
     "text": [
      "Number of threads: 8\n"
     ]
    }
   ],
   "source": [
    "import os\n",
    "\n",
    "# Get the number of threads\n",
    "num_threads = os.cpu_count()\n",
    "\n",
    "print(f\"Number of threads: {num_threads}\")\n"
   ]
  },
  {
   "cell_type": "code",
   "execution_count": 18,
   "metadata": {},
   "outputs": [
    {
     "name": "stdout",
     "output_type": "stream",
     "text": [
      "Number of physical CPU cores: 4\n",
      "Number of logical CPU cores (including threads): 8\n"
     ]
    }
   ],
   "source": [
    "import psutil\n",
    "\n",
    "# Get the number of physical CPU cores\n",
    "num_cores = psutil.cpu_count(logical=False)\n",
    "\n",
    "# Get the number of logical CPU cores (including threads)\n",
    "num_threads = psutil.cpu_count(logical=True)\n",
    "\n",
    "print(f\"Number of physical CPU cores: {num_cores}\")\n",
    "print(f\"Number of logical CPU cores (including threads): {num_threads}\")\n",
    "\n"
   ]
  },
  {
   "cell_type": "code",
   "execution_count": null,
   "metadata": {},
   "outputs": [],
   "source": []
  },
  {
   "cell_type": "code",
   "execution_count": null,
   "metadata": {},
   "outputs": [],
   "source": []
  }
 ],
 "metadata": {
  "colab": {
   "provenance": []
  },
  "kernelspec": {
   "display_name": "Python 3 (ipykernel)",
   "language": "python",
   "name": "python3"
  },
  "language_info": {
   "codemirror_mode": {
    "name": "ipython",
    "version": 3
   },
   "file_extension": ".py",
   "mimetype": "text/x-python",
   "name": "python",
   "nbconvert_exporter": "python",
   "pygments_lexer": "ipython3",
   "version": "3.10.5"
  }
 },
 "nbformat": 4,
 "nbformat_minor": 4
}
