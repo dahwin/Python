{
 "cells": [
  {
   "cell_type": "code",
   "execution_count": 1,
   "id": "a3fbdb45-122a-436a-808a-a04a9f7312af",
   "metadata": {},
   "outputs": [],
   "source": [
    "import nest_asyncio\n",
    "nest_asyncio.apply()"
   ]
  },
  {
   "cell_type": "code",
   "execution_count": 8,
   "id": "11539ef3-53c5-4ffc-9bc5-d73f047afeae",
   "metadata": {},
   "outputs": [
    {
     "name": "stdout",
     "output_type": "stream",
     "text": [
      "Started synchronous task: Task 1\n",
      "Completed synchronous task: Task 1\n",
      "Started synchronous task: Task 2\n",
      "Completed synchronous task: Task 2\n",
      "Started synchronous task: Task 3\n",
      "Completed synchronous task: Task 3\n"
     ]
    }
   ],
   "source": [
    "import time\n",
    "\n",
    "def synchronous_task(task_name):\n",
    "    print(f\"Started synchronous task: {task_name}\")\n",
    "    time.sleep(2)  # Simulate a blocking task that takes 2 seconds\n",
    "    print(f\"Completed synchronous task: {task_name}\")\n",
    "\n",
    "def run_synchronous_tasks():\n",
    "    for i in range(1, 4):\n",
    "        synchronous_task(f\"Task {i}\")\n",
    "\n",
    "# Call the synchronous function\n",
    "run_synchronous_tasks()\n"
   ]
  },
  {
   "cell_type": "code",
   "execution_count": 9,
   "id": "947833dd-b5e4-45b7-8cf9-89397080ae5d",
   "metadata": {},
   "outputs": [
    {
     "name": "stdout",
     "output_type": "stream",
     "text": [
      "Started asynchronous task: Task 1\n",
      "Started asynchronous task: Task 2\n",
      "Started asynchronous task: Task 3\n",
      "Completed asynchronous task: Task 1\n",
      "Completed asynchronous task: Task 2\n",
      "Completed asynchronous task: Task 3\n"
     ]
    }
   ],
   "source": [
    "import asyncio\n",
    "\n",
    "async def asynchronous_task(task_name):\n",
    "    print(f\"Started asynchronous task: {task_name}\")\n",
    "    await asyncio.sleep(2)  # Simulate an asynchronous task that takes 2 seconds\n",
    "    print(f\"Completed asynchronous task: {task_name}\")\n",
    "\n",
    "async def run_asynchronous_tasks():\n",
    "    tasks = [asynchronous_task(f\"Task {i}\") for i in range(1, 4)]\n",
    "    await asyncio.gather(*tasks)\n",
    "\n",
    "# Call the asynchronous function\n",
    "asyncio.run(run_asynchronous_tasks())\n"
   ]
  },
  {
   "cell_type": "code",
   "execution_count": 8,
   "id": "c3e4f0a9-4bc3-4042-a841-3aca878e9a14",
   "metadata": {},
   "outputs": [
    {
     "name": "stdout",
     "output_type": "stream",
     "text": [
      "Factorial: 402387260077093773543702433923003985719374864210714632543799910429938512398629020592044208486969404800479988610197196058631666872994808558901323829669944590997424504087073759918823627727188732519779505950995276120874975462497043601418278094646496291056393887437886487337119181045825783647849977012476632889835955735432513185323958463075557409114262417474349347553428646576611667797396668820291207379143853719588249808126867838374559731746136085379534524221586593201928090878297308431392844403281231558611036976801357304216168747609675871348312025478589320767169132448426236131412508780208000261683151027341827977704784635868170164365024153691398281264810213092761244896359928705114964975419909342221566832572080821333186116811553615836546984046708975602900950537616475847728421889679646244945160765353408198901385442487984959953319101723355556602139450399736280750137837615307127761926849034352625200015888535147331611702103968175921510907788019393178114194545257223865541461062892187960223838971476088506276862967146674697562911234082439208160153780889893964518263243671616762179168909779911903754031274622289988005195444414282012187361745992642956581746628302955570299024324153181617210465832036786906117260158783520751516284225540265170483304226143974286933061690897968482590125458327168226458066526769958652682272807075781391858178889652208164348344825993266043367660176999612831860788386150279465955131156552036093988180612138558600301435694527224206344631797460594682573103790084024432438465657245014402821885252470935190620929023136493273497565513958720559654228749774011413346962715422845862377387538230483865688976461927383814900140767310446640259899490222221765904339901886018566526485061799702356193897017860040811889729918311021171229845901641921068884387121855646124960798722908519296819372388642614839657382291123125024186649353143970137428531926649875337218940694281434118520158014123344828015051399694290153483077644569099073152433278288269864602789864321139083506217095002597389863554277196742822248757586765752344220207573630569498825087968928162753848863396909959826280956121450994871701244516461260379029309120889086942028510640182154399457156805941872748998094254742173582401063677404595741785160829230135358081840096996372524230560855903700624271243416909004153690105933983835777939410970027753472000000000000000000000000000000000000000000000000000000000000000000000000000000000000000000000000000000000000000000000000000000000000000000000000000000000000000000000000000000000000000000000000000000000000000000000000000000000000000000000000000000000\n",
      "Read from file: []\n",
      "Synchronous tasks took 0.015621423721313477 seconds\n"
     ]
    }
   ],
   "source": [
    "import time\n",
    "import math\n",
    "\n",
    "def calculate_factorial(n):\n",
    "    result = 1\n",
    "    for i in range(1, n + 1):\n",
    "        result *= i\n",
    "    return result\n",
    "\n",
    "def write_to_file(data):\n",
    "    with open(\"output.txt\", \"w\") as file:\n",
    "        for line in data:\n",
    "            file.write(line + \"\\n\")\n",
    "\n",
    "def read_from_file():\n",
    "    with open(\"input.txt\", \"r\") as file:\n",
    "        return file.readlines()\n",
    "\n",
    "def run_synchronous_tasks():\n",
    "    # Calculate factorial synchronously\n",
    "    result = calculate_factorial(1000)\n",
    "    print(f\"Factorial: {result}\")\n",
    "\n",
    "    # Simulate file I/O\n",
    "    data = [\"Line 1\", \"Line 2\", \"Line 3\"]\n",
    "    write_to_file(data)\n",
    "    read_data = read_from_file()\n",
    "    print(f\"Read from file: {read_data}\")\n",
    "\n",
    "start_time = time.time()\n",
    "run_synchronous_tasks()\n",
    "end_time = time.time()\n",
    "print(f\"Synchronous tasks took {end_time - start_time} seconds\")\n"
   ]
  },
  {
   "cell_type": "code",
   "execution_count": 9,
   "id": "d4dae704-1b69-42cc-8c99-64113afc0d3f",
   "metadata": {},
   "outputs": [
    {
     "name": "stdout",
     "output_type": "stream",
     "text": [
      "Factorial: 402387260077093773543702433923003985719374864210714632543799910429938512398629020592044208486969404800479988610197196058631666872994808558901323829669944590997424504087073759918823627727188732519779505950995276120874975462497043601418278094646496291056393887437886487337119181045825783647849977012476632889835955735432513185323958463075557409114262417474349347553428646576611667797396668820291207379143853719588249808126867838374559731746136085379534524221586593201928090878297308431392844403281231558611036976801357304216168747609675871348312025478589320767169132448426236131412508780208000261683151027341827977704784635868170164365024153691398281264810213092761244896359928705114964975419909342221566832572080821333186116811553615836546984046708975602900950537616475847728421889679646244945160765353408198901385442487984959953319101723355556602139450399736280750137837615307127761926849034352625200015888535147331611702103968175921510907788019393178114194545257223865541461062892187960223838971476088506276862967146674697562911234082439208160153780889893964518263243671616762179168909779911903754031274622289988005195444414282012187361745992642956581746628302955570299024324153181617210465832036786906117260158783520751516284225540265170483304226143974286933061690897968482590125458327168226458066526769958652682272807075781391858178889652208164348344825993266043367660176999612831860788386150279465955131156552036093988180612138558600301435694527224206344631797460594682573103790084024432438465657245014402821885252470935190620929023136493273497565513958720559654228749774011413346962715422845862377387538230483865688976461927383814900140767310446640259899490222221765904339901886018566526485061799702356193897017860040811889729918311021171229845901641921068884387121855646124960798722908519296819372388642614839657382291123125024186649353143970137428531926649875337218940694281434118520158014123344828015051399694290153483077644569099073152433278288269864602789864321139083506217095002597389863554277196742822248757586765752344220207573630569498825087968928162753848863396909959826280956121450994871701244516461260379029309120889086942028510640182154399457156805941872748998094254742173582401063677404595741785160829230135358081840096996372524230560855903700624271243416909004153690105933983835777939410970027753472000000000000000000000000000000000000000000000000000000000000000000000000000000000000000000000000000000000000000000000000000000000000000000000000000000000000000000000000000000000000000000000000000000000000000000000000000000000000000000000000000000000\n",
      "Read from file: []\n",
      "Asynchronous tasks took 0.005229949951171875 seconds\n"
     ]
    }
   ],
   "source": [
    "import asyncio\n",
    "\n",
    "async def calculate_factorial_async(n):\n",
    "    result = 1\n",
    "    for i in range(1, n + 1):\n",
    "        result *= i\n",
    "    return result\n",
    "\n",
    "async def write_to_file_async(data):\n",
    "    with open(\"output.txt\", \"w\") as file:\n",
    "        for line in data:\n",
    "            file.write(line + \"\\n\")\n",
    "\n",
    "async def read_from_file_async():\n",
    "    with open(\"input.txt\", \"r\") as file:\n",
    "        return file.readlines()\n",
    "\n",
    "async def run_asynchronous_tasks():\n",
    "    # Calculate factorial asynchronously\n",
    "    factorial_task = asyncio.create_task(calculate_factorial_async(1000))\n",
    "    \n",
    "    # Simulate file I/O asynchronously\n",
    "    data = [\"Line 1\", \"Line 2\", \"Line 3\"]\n",
    "    write_task = asyncio.create_task(write_to_file_async(data))\n",
    "    read_task = asyncio.create_task(read_from_file_async())\n",
    "    \n",
    "    await asyncio.gather(factorial_task, write_task, read_task)\n",
    "    \n",
    "    print(f\"Factorial: {factorial_task.result()}\")\n",
    "    print(f\"Read from file: {read_task.result()}\")\n",
    "\n",
    "start_time = time.time()\n",
    "asyncio.run(run_asynchronous_tasks())\n",
    "end_time = time.time()\n",
    "print(f\"Asynchronous tasks took {end_time - start_time} seconds\")\n"
   ]
  },
  {
   "cell_type": "code",
   "execution_count": 12,
   "id": "a9b29293-e63a-4c0c-8b8f-3f3f2452270e",
   "metadata": {},
   "outputs": [
    {
     "data": {
      "text/plain": [
       "'hello'"
      ]
     },
     "execution_count": 12,
     "metadata": {},
     "output_type": "execute_result"
    }
   ],
   "source": [
    "import asyncio\n",
    "await asyncio.sleep(10, result='hello')"
   ]
  },
  {
   "cell_type": "code",
   "execution_count": 13,
   "id": "a9befcdd-546c-4a0b-9438-af0fad771c52",
   "metadata": {},
   "outputs": [
    {
     "data": {
      "text/plain": [
       "<_WindowsSelectorEventLoop running=True closed=False debug=False>"
      ]
     },
     "execution_count": 13,
     "metadata": {},
     "output_type": "execute_result"
    }
   ],
   "source": [
    "asyncio.get_event_loop()"
   ]
  },
  {
   "cell_type": "code",
   "execution_count": null,
   "id": "149e7d28-fdd0-449e-8a12-eb23052db161",
   "metadata": {},
   "outputs": [
    {
     "name": "stdout",
     "output_type": "stream",
     "text": [
      "Send: 'Hello World!'\n"
     ]
    }
   ],
   "source": [
    "import asyncio\n",
    "\n",
    "async def tcp_echo_client(message):\n",
    "    reader, writer = await asyncio.open_connection(\n",
    "        '127.0.0.1', 8888)\n",
    "\n",
    "    print(f'Send: {message!r}')\n",
    "    writer.write(message.encode())\n",
    "    await writer.drain()\n",
    "\n",
    "    data = await reader.read(100)\n",
    "    print(f'Received: {data.decode()!r}')\n",
    "\n",
    "    print('Close the connection')\n",
    "    writer.close()\n",
    "    await writer.wait_closed()\n",
    "\n",
    "asyncio.run(tcp_echo_client('Hello World!'))"
   ]
  },
  {
   "cell_type": "code",
   "execution_count": null,
   "id": "a9fc740f-b576-4c09-b8ca-e66c7acb9013",
   "metadata": {},
   "outputs": [],
   "source": []
  },
  {
   "cell_type": "code",
   "execution_count": null,
   "id": "4498497b-27eb-44b8-afdf-b7a757b0ba8f",
   "metadata": {},
   "outputs": [],
   "source": []
  },
  {
   "cell_type": "code",
   "execution_count": 7,
   "id": "93443f66-9140-4bd5-bc08-77f9c3bada36",
   "metadata": {},
   "outputs": [
    {
     "name": "stdout",
     "output_type": "stream",
     "text": [
      "dahyun+darwin=dahwin\n",
      "love\n",
      "dubu\n",
      "finish\n"
     ]
    }
   ],
   "source": [
    "import asyncio\n",
    "async def dahwin():\n",
    "    print('dahyun+darwin=dahwin')\n",
    "    await fancy('love')\n",
    "    print('finish')\n",
    "async def fancy(text):\n",
    "    print(text)\n",
    "    await asyncio.sleep(1)\n",
    "    print('dubu')\n",
    "    \n",
    "asyncio.run(dahwin())"
   ]
  },
  {
   "cell_type": "code",
   "execution_count": null,
   "id": "95a663a8-24ff-42d6-8298-17792117c301",
   "metadata": {},
   "outputs": [],
   "source": []
  }
 ],
 "metadata": {
  "kernelspec": {
   "display_name": "Python 3 (ipykernel)",
   "language": "python",
   "name": "python3"
  },
  "language_info": {
   "codemirror_mode": {
    "name": "ipython",
    "version": 3
   },
   "file_extension": ".py",
   "mimetype": "text/x-python",
   "name": "python",
   "nbconvert_exporter": "python",
   "pygments_lexer": "ipython3",
   "version": "3.10.5"
  }
 },
 "nbformat": 4,
 "nbformat_minor": 5
}
